{
  "nbformat": 4,
  "nbformat_minor": 0,
  "metadata": {
    "colab": {
      "name": "ML_Exp1.ipynb",
      "provenance": [],
      "authorship_tag": "ABX9TyPtL1BuTp2xJG+YPkzhMr2Y",
      "include_colab_link": true
    },
    "kernelspec": {
      "name": "python3",
      "display_name": "Python 3"
    },
    "language_info": {
      "name": "python"
    }
  },
  "cells": [
    {
      "cell_type": "markdown",
      "metadata": {
        "id": "view-in-github",
        "colab_type": "text"
      },
      "source": [
        "<a href=\"https://colab.research.google.com/github/gemini106/SanaSubhedarTASKS/blob/master/ML_Exp1.ipynb\" target=\"_parent\"><img src=\"https://colab.research.google.com/assets/colab-badge.svg\" alt=\"Open In Colab\"/></a>"
      ]
    },
    {
      "cell_type": "markdown",
      "source": [
        "# **EXP 1 BASICS OF PYTHON**"
      ],
      "metadata": {
        "id": "F-ksMunmMUp8"
      }
    },
    {
      "cell_type": "code",
      "execution_count": 2,
      "metadata": {
        "colab": {
          "base_uri": "https://localhost:8080/"
        },
        "id": "WOAIIw-EMPA9",
        "outputId": "ec1981bd-0665-4bb8-cc50-4e908aefee85"
      },
      "outputs": [
        {
          "output_type": "stream",
          "name": "stdout",
          "text": [
            "My name is Sana Subhedar\n",
            "My Roll No is 18ET047\n",
            "This is EXP1 BASICS OF PYTHON\n"
          ]
        }
      ],
      "source": [
        "print(\"My name is Sana Subhedar\")\n",
        "print(\"My Roll No is 18ET047\")\n",
        "print(\"This is EXP1 BASICS OF PYTHON\")\n"
      ]
    },
    {
      "cell_type": "markdown",
      "source": [
        "# **Simple Operations**"
      ],
      "metadata": {
        "id": "RiEWBEYZNBhc"
      }
    },
    {
      "cell_type": "code",
      "source": [
        "a = 10\n",
        "b = 15\n",
        "c = a+b\n",
        "d = a*b\n",
        "print(c)\n",
        "print(d)"
      ],
      "metadata": {
        "colab": {
          "base_uri": "https://localhost:8080/"
        },
        "id": "OnjfWsqUNMb9",
        "outputId": "6d20828a-9774-462f-cfcc-fb29c4294527"
      },
      "execution_count": 3,
      "outputs": [
        {
          "output_type": "stream",
          "name": "stdout",
          "text": [
            "25\n",
            "150\n"
          ]
        }
      ]
    },
    {
      "cell_type": "markdown",
      "source": [
        "# **Print a Series of Numbers**"
      ],
      "metadata": {
        "id": "fcFYWHSmNqWX"
      }
    },
    {
      "cell_type": "code",
      "source": [
        "a = 1\n",
        "print(a)\n",
        "a = a+1\n",
        "print(a)\n",
        "a = a+1\n",
        "print(a)\n",
        "a = a+1\n",
        "print(a)\n",
        "a = a+1\n",
        "print(a)\n",
        "a = a+1\n",
        "print(a)\n"
      ],
      "metadata": {
        "colab": {
          "base_uri": "https://localhost:8080/"
        },
        "id": "z1WCOtrVNwUT",
        "outputId": "08d9d95e-9d68-4648-a756-67e4bb98932f"
      },
      "execution_count": 5,
      "outputs": [
        {
          "output_type": "stream",
          "name": "stdout",
          "text": [
            "1\n",
            "2\n",
            "3\n",
            "4\n",
            "5\n",
            "6\n"
          ]
        }
      ]
    },
    {
      "cell_type": "code",
      "source": [
        "n = input(\"what is your Name?\")\n",
        "print(\"Hello\", n)\n",
        "print(\"I hope life is treating\", n, \"well!\")"
      ],
      "metadata": {
        "colab": {
          "base_uri": "https://localhost:8080/"
        },
        "id": "GA-oFrZCOF3U",
        "outputId": "53d9072f-3200-4dcb-abda-6745047127e8"
      },
      "execution_count": 12,
      "outputs": [
        {
          "output_type": "stream",
          "name": "stdout",
          "text": [
            "what is your Name?Sanu\n",
            "Hello Sanu\n",
            "I hope life is treating Sanu well!\n"
          ]
        }
      ]
    },
    {
      "cell_type": "markdown",
      "source": [
        "# **Calculate a discounted Price**"
      ],
      "metadata": {
        "id": "1i8xiZEuO809"
      }
    },
    {
      "cell_type": "code",
      "source": [
        "print(\"Let's calculate discounted price.\")\n",
        "c = input(\"What is the cost? \")\n",
        "d = int(c)\n",
        "ans = d*0.9\n",
        "print(\"The discounted price is : \", ans)"
      ],
      "metadata": {
        "colab": {
          "base_uri": "https://localhost:8080/"
        },
        "id": "gKcnh8VyOzg0",
        "outputId": "ba1f93fd-0279-4aef-9278-66a56f0d48cd"
      },
      "execution_count": 16,
      "outputs": [
        {
          "output_type": "stream",
          "name": "stdout",
          "text": [
            "Let's calculate discounted price.\n",
            "What is the cost? 80\n",
            "The discounted price is :  72.0\n"
          ]
        }
      ]
    },
    {
      "cell_type": "code",
      "source": [
        "c = 80\n",
        "d = c/100\n",
        "print(d)"
      ],
      "metadata": {
        "colab": {
          "base_uri": "https://localhost:8080/"
        },
        "id": "hOXtR_evT3Rv",
        "outputId": "ff80a9f7-a165-4065-b484-7f346f10036b"
      },
      "execution_count": 35,
      "outputs": [
        {
          "output_type": "stream",
          "name": "stdout",
          "text": [
            "0.8\n"
          ]
        }
      ]
    },
    {
      "cell_type": "code",
      "source": [
        "print(\"Let's calculate discounted price.\")\n",
        "c = input(\"What is the cost? \")\n",
        "d = int(c)\n",
        "x = input(\"What is the % discount? \")\n",
        "y = int(x)\n",
        "z = y/100\n",
        "ans = d*z\n",
        "print(\"The discounted price is : \", ans)"
      ],
      "metadata": {
        "colab": {
          "base_uri": "https://localhost:8080/"
        },
        "id": "F96x2SwQQRaX",
        "outputId": "e077673e-25e9-4b67-907a-bedeb1b2f8c0"
      },
      "execution_count": 36,
      "outputs": [
        {
          "output_type": "stream",
          "name": "stdout",
          "text": [
            "Let's calculate discounted price.\n",
            "What is the cost? 80\n",
            "What is the % discount? 50\n",
            "The discounted price is :  40.0\n"
          ]
        }
      ]
    },
    {
      "cell_type": "markdown",
      "source": [
        "# **For Loops**"
      ],
      "metadata": {
        "id": "flGsL3xwSaIR"
      }
    },
    {
      "cell_type": "code",
      "source": [
        "for i in range (8):\n",
        "  print(\"Hi how are you? \")"
      ],
      "metadata": {
        "colab": {
          "base_uri": "https://localhost:8080/"
        },
        "id": "zsc1lyTjR2NY",
        "outputId": "2c5b41ed-be3f-4cd1-c014-10a56a237417"
      },
      "execution_count": 23,
      "outputs": [
        {
          "output_type": "stream",
          "name": "stdout",
          "text": [
            "Hi how are you? \n",
            "Hi how are you? \n",
            "Hi how are you? \n",
            "Hi how are you? \n",
            "Hi how are you? \n",
            "Hi how are you? \n",
            "Hi how are you? \n",
            "Hi how are you? \n"
          ]
        }
      ]
    },
    {
      "cell_type": "code",
      "source": [
        "for i in range (10):\n",
        "  print(i)\n",
        "  "
      ],
      "metadata": {
        "colab": {
          "base_uri": "https://localhost:8080/"
        },
        "id": "O63LRsjCR_n5",
        "outputId": "8fed54f8-808f-429e-d770-8f455a9acfee"
      },
      "execution_count": 24,
      "outputs": [
        {
          "output_type": "stream",
          "name": "stdout",
          "text": [
            "0\n",
            "1\n",
            "2\n",
            "3\n",
            "4\n",
            "5\n",
            "6\n",
            "7\n",
            "8\n",
            "9\n"
          ]
        }
      ]
    },
    {
      "cell_type": "code",
      "source": [
        "for i in range (11):\n",
        "  print(i*10)\n",
        "#print table of 10"
      ],
      "metadata": {
        "colab": {
          "base_uri": "https://localhost:8080/"
        },
        "id": "luxvjg_ySeRU",
        "outputId": "215c38df-ccf2-4a9c-c7a4-bc2a327e9637"
      },
      "execution_count": 30,
      "outputs": [
        {
          "output_type": "stream",
          "name": "stdout",
          "text": [
            "0\n",
            "10\n",
            "20\n",
            "30\n",
            "40\n",
            "50\n",
            "60\n",
            "70\n",
            "80\n",
            "90\n",
            "100\n"
          ]
        }
      ]
    },
    {
      "cell_type": "markdown",
      "source": [
        "# **Print table of any number**"
      ],
      "metadata": {
        "id": "QovGEdY6Sxvk"
      }
    },
    {
      "cell_type": "code",
      "source": [
        "t = input(\"What number table do you want to display? \")\n",
        "a = int(t)\n",
        "for i in range(1,11):\n",
        "  print(a, \"x\", i,\"=\", a*i)\n",
        "print(\"Great Job Jeon Sana!\")\n"
      ],
      "metadata": {
        "colab": {
          "base_uri": "https://localhost:8080/"
        },
        "id": "eKqK1qlzSwOr",
        "outputId": "a9ed2f34-98df-4cb5-deb5-73239dd1f083"
      },
      "execution_count": 31,
      "outputs": [
        {
          "output_type": "stream",
          "name": "stdout",
          "text": [
            "What number table do you want to display? 18\n",
            "18 x 1 = 18\n",
            "18 x 2 = 36\n",
            "18 x 3 = 54\n",
            "18 x 4 = 72\n",
            "18 x 5 = 90\n",
            "18 x 6 = 108\n",
            "18 x 7 = 126\n",
            "18 x 8 = 144\n",
            "18 x 9 = 162\n",
            "18 x 10 = 180\n",
            "Great Job Jeon Sana!\n"
          ]
        }
      ]
    },
    {
      "cell_type": "markdown",
      "source": [
        "# **Dispaly fibonancci series of first 10 numbers**"
      ],
      "metadata": {
        "id": "eGR2XXJQUXLb"
      }
    },
    {
      "cell_type": "code",
      "source": [
        "#number = int(input(\"Enter how many terms? \"))\n",
        "number = 10\n",
        "num1 = 0\n",
        "num2 = 1\n",
        "count = 0\n",
        "sum = 0\n",
        "print(\"Fibonancci series \")\n",
        "while(count < number):\n",
        "    print(num1)\n",
        "    sum = num1 + num2\n",
        "    num1 = num2\n",
        "    num2 = sum\n",
        "    count = count +1\n",
        "\n",
        "print(\"You did it Jeon san Nim!!!\")\n"
      ],
      "metadata": {
        "colab": {
          "base_uri": "https://localhost:8080/"
        },
        "id": "mgVO7itkUtFt",
        "outputId": "1229ede2-63af-4b00-ea17-973dfc24ac93"
      },
      "execution_count": 44,
      "outputs": [
        {
          "output_type": "stream",
          "name": "stdout",
          "text": [
            "Fibonancci series \n",
            "0\n",
            "1\n",
            "1\n",
            "2\n",
            "3\n",
            "5\n",
            "8\n",
            "13\n",
            "21\n",
            "34\n",
            "You did it Jeon san Nim!!!\n"
          ]
        }
      ]
    }
  ]
}